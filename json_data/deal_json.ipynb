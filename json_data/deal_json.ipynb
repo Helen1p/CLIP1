{
 "cells": [
  {
   "cell_type": "code",
   "execution_count": 1,
   "id": "7265b213",
   "metadata": {},
   "outputs": [],
   "source": [
    "import json\n",
    "import os"
   ]
  },
  {
   "cell_type": "code",
   "execution_count": 2,
   "id": "eaf265ba",
   "metadata": {},
   "outputs": [],
   "source": [
    "li=os.listdir(r'/data/pxg1/data/q-instruct-images-embed/')\n",
    "final=[]\n",
    "for i in li:\n",
    "    l1=os.listdir(r'/data/pxg1/data/q-instruct-images-embed/'+i)\n",
    "    for b in l1:\n",
    "        final.append(i+'/'+b.split('.')[0])\n"
   ]
  },
  {
   "cell_type": "code",
   "execution_count": 3,
   "id": "8f30fe81",
   "metadata": {},
   "outputs": [],
   "source": [
    "with open(r'/data/pxg1/CLIP1/json_data/new.json') as f:\n",
    "    a=json.load(f)\n",
    "# os.listdir(r'/data/pxg1/data/q-instruct-images-embed')\n",
    "j=[]\n",
    "for i in a:\n",
    "    if i['image'].split('.')[0] in final:\n",
    "        # i['image']=i['image'].split('.')[0]+'.npy'\n",
    "        j.append(i)\n",
    "with open (r'/data/pxg1/CLIP1/json_data/new_1.json', 'w') as f1:\n",
    "    json.dump(j, f1)"
   ]
  },
  {
   "cell_type": "code",
   "execution_count": 10,
   "id": "254009f1",
   "metadata": {},
   "outputs": [
    {
     "data": {
      "text/plain": [
       "18575"
      ]
     },
     "execution_count": 10,
     "metadata": {},
     "output_type": "execute_result"
    }
   ],
   "source": [
    "len(j)"
   ]
  },
  {
   "cell_type": "code",
   "execution_count": 4,
   "id": "119bcc06",
   "metadata": {},
   "outputs": [],
   "source": []
  },
  {
   "cell_type": "code",
   "execution_count": 17,
   "id": "b902471d",
   "metadata": {},
   "outputs": [],
   "source": [
    "with open(r'/root/CLIP1/json_data/q_pathway2.json') as f:\n",
    "    a=json.load(f)\n",
    "    pathway=[]\n",
    "    for i in a:\n",
    "        # 删除没有type的yes/no\n",
    "        if i['value'].startswith('\\\"'):\n",
    "            i['value']=i['value'].split(sep='\\\"')[1]\n",
    "        pathway.append(i)\n",
    "    with open (r'/root/CLIP1/json_data/all1.json', 'w') as f1:\n",
    "        json.dump(pathway, f1)"
   ]
  },
  {
   "cell_type": "code",
   "execution_count": 5,
   "id": "4db2aba7",
   "metadata": {},
   "outputs": [],
   "source": [
    "with open(r'/Users/helenpeng/Downloads/cleaned_labels.json') as f:\n",
    "    a=json.load(f)\n",
    "    pathway=[]\n",
    "    for i in a:\n",
    "        if 'type' not in i.keys():\n",
    "            pathway.append(i)\n",
    "    with open (r'./q_pathway.json', 'w') as f1:\n",
    "        json.dump(pathway, f1)"
   ]
  },
  {
   "cell_type": "code",
   "execution_count": 7,
   "id": "a15b422b",
   "metadata": {},
   "outputs": [],
   "source": [
    "with open (r'./q_pathway.json') as f1:\n",
    "    b=json.load(f1)"
   ]
  },
  {
   "cell_type": "code",
   "execution_count": 29,
   "id": "55c4c769",
   "metadata": {},
   "outputs": [],
   "source": [
    "with open(r'./q_pathway.json') as f:\n",
    "    a=json.load(f)\n",
    "    pathway=[]\n",
    "    for i in a:\n",
    "        # 删除没有type的yes/no\n",
    "        if \"Are there any quality issues with this image?\\n<image>\" not in i['conversations'][0]['value']:\n",
    "            pathway.append(i)\n",
    "    with open (r'./q_pathway1.json', 'w') as f1:\n",
    "        json.dump(pathway, f1)"
   ]
  },
  {
   "cell_type": "code",
   "execution_count": 36,
   "id": "10c2dc3c",
   "metadata": {},
   "outputs": [],
   "source": [
    "with open(r'./q_pathway1.json') as f:\n",
    "    aa=json.load(f)"
   ]
  },
  {
   "cell_type": "code",
   "execution_count": 33,
   "id": "d96e65fe",
   "metadata": {},
   "outputs": [
    {
     "data": {
      "text/plain": [
       "53823"
      ]
     },
     "execution_count": 33,
     "metadata": {},
     "output_type": "execute_result"
    }
   ],
   "source": [
    "len(aa)"
   ]
  },
  {
   "cell_type": "code",
   "execution_count": 62,
   "id": "399618a7",
   "metadata": {},
   "outputs": [
    {
     "data": {
      "text/plain": [
       "18710"
      ]
     },
     "execution_count": 62,
     "metadata": {},
     "output_type": "execute_result"
    }
   ],
   "source": [
    "len(di)\n",
    "# image共18710个，原文里说有18973个"
   ]
  },
  {
   "cell_type": "code",
   "execution_count": 55,
   "id": "6f742605",
   "metadata": {},
   "outputs": [],
   "source": [
    "with open(r'./q_pathway1.json') as f:\n",
    "    a=json.load(f)\n",
    "    pathway=[]\n",
    "    for i in a:\n",
    "        # 去掉json里多余的信息\n",
    "        del i['id']\n",
    "        i['value']=i['conversations'][1]['value']\n",
    "        del i['conversations']\n",
    "        pathway.append(i)\n",
    "    with open (r'./q_pathway2.json', 'w') as f1:\n",
    "        json.dump(pathway, f1)"
   ]
  },
  {
   "cell_type": "code",
   "execution_count": 2,
   "id": "4556a4dd",
   "metadata": {},
   "outputs": [],
   "source": [
    "with open(r'./q_pathway2.json') as f:\n",
    "    a=json.load(f)\n",
    "    pathway=[]\n",
    "    name={}\n",
    "    for i in a:\n",
    "        if i['image'] in name.keys():\n",
    "            pass\n",
    "        else:\n",
    "            name[i['image']]=1\n",
    "            pathway.append(i)\n",
    "    with open (r'./q_pathway3.json', 'w') as f1:\n",
    "        json.dump(pathway, f1)"
   ]
  },
  {
   "cell_type": "code",
   "execution_count": 3,
   "id": "513a5cfc",
   "metadata": {},
   "outputs": [],
   "source": [
    "with open(r'./q_pathway3.json') as f:\n",
    "    a3=json.load(f)"
   ]
  },
  {
   "cell_type": "code",
   "execution_count": 4,
   "id": "d92bc7c2",
   "metadata": {},
   "outputs": [
    {
     "data": {
      "text/plain": [
       "18710"
      ]
     },
     "execution_count": 4,
     "metadata": {},
     "output_type": "execute_result"
    }
   ],
   "source": [
    "len(a3)"
   ]
  },
  {
   "cell_type": "code",
   "execution_count": 31,
   "id": "c73ad50c",
   "metadata": {},
   "outputs": [],
   "source": [
    "with open(r'/root/CLIP1/json_data/other.json') as f:\n",
    "    a=json.load(f)\n",
    "the=[]\n",
    "other=[]\n",
    "for i in a:\n",
    "    if 'Therefore' in i['value']:\n",
    "        the.append(i)\n",
    "    else:\n",
    "        other.append(i)\n",
    "with open(r'/root/CLIP1/json_data/other2the.json', 'w') as f1:\n",
    "    json.dump(the, f1)\n",
    "with open(r'/root/CLIP1/json_data/other2other.json', 'w') as f2:\n",
    "    json.dump(other, f2)"
   ]
  },
  {
   "cell_type": "code",
   "execution_count": 22,
   "id": "36028422",
   "metadata": {},
   "outputs": [
    {
     "data": {
      "text/plain": [
       "53822"
      ]
     },
     "execution_count": 22,
     "metadata": {},
     "output_type": "execute_result"
    }
   ],
   "source": [
    "len(a)"
   ]
  },
  {
   "cell_type": "code",
   "execution_count": 32,
   "id": "0d128fab",
   "metadata": {},
   "outputs": [],
   "source": [
    "with open(r'/root/CLIP1/json_data/other2other.json') as f2:\n",
    "    c=json.load(f2)"
   ]
  },
  {
   "cell_type": "code",
   "execution_count": 33,
   "id": "58941fcb",
   "metadata": {},
   "outputs": [
    {
     "data": {
      "text/plain": [
       "12868"
      ]
     },
     "execution_count": 33,
     "metadata": {},
     "output_type": "execute_result"
    }
   ],
   "source": [
    "len(c)"
   ]
  },
  {
   "cell_type": "code",
   "execution_count": 37,
   "id": "035c06e9",
   "metadata": {},
   "outputs": [],
   "source": [
    "s=\"The overall sharpness of this image is very low, and there is a severe focusing problem, leading to blurriness throughout the entire image. The texture details are almost completely lost. The composition and exposure are decent, but the overall quality of this image is very poor.\""
   ]
  },
  {
   "cell_type": "code",
   "execution_count": 40,
   "id": "17233df3",
   "metadata": {},
   "outputs": [
    {
     "data": {
      "text/plain": [
       "['The overall sharpness of this image is very low',\n",
       " 'and there is a severe focusing problem',\n",
       " 'leading to blurriness throughout the entire image. The texture details are almost completely lost. The composition and exposure are decent',\n",
       " 'but the overall quality of this image is very poor.']"
      ]
     },
     "execution_count": 40,
     "metadata": {},
     "output_type": "execute_result"
    }
   ],
   "source": [
    "s.split(sep=', ')"
   ]
  },
  {
   "cell_type": "code",
   "execution_count": 43,
   "id": "60292e1c",
   "metadata": {},
   "outputs": [],
   "source": [
    "s1=\"The overall clarity of this image is low, there are certain focusing issues, and there is a certain amount of noise. The lighting is quite sufficient, but the color tone is monotonous. The main subject is leaves, which are relatively blurry and lacks most of the texture details. The composition is slanted, and the background is relatively blurry. Therefore, the quality of this image is poor.\""
   ]
  },
  {
   "cell_type": "code",
   "execution_count": 53,
   "id": "0a2ab69f",
   "metadata": {},
   "outputs": [
    {
     "data": {
      "text/plain": [
       "['The overall clarity of this image is low, there are certain focusing issues, and there is a certain amount of noise. The lighting is quite sufficient, but the color tone is monotonous. The main subject is leaves, which are relatively blurry and lacks most of the texture details. The composition is slanted, and the background is relatively blurry.',\n",
       " 'the quality of this image is poor.']"
      ]
     },
     "execution_count": 53,
     "metadata": {},
     "output_type": "execute_result"
    }
   ],
   "source": [
    "s1.split(sep=' Therefore, ')"
   ]
  },
  {
   "cell_type": "code",
   "execution_count": 41,
   "id": "2c63a507",
   "metadata": {},
   "outputs": [],
   "source": [
    "# the和other2the用Therefore去split，other2ther用 ,\n"
   ]
  },
  {
   "cell_type": "code",
   "execution_count": 42,
   "id": "a5192167",
   "metadata": {},
   "outputs": [
    {
     "ename": "SyntaxError",
     "evalue": "illegal target for annotation (382770496.py, line 1)",
     "output_type": "error",
     "traceback": [
      "\u001b[0;36m  File \u001b[0;32m\"/tmp/ipykernel_1780/382770496.py\"\u001b[0;36m, line \u001b[0;32m1\u001b[0m\n\u001b[0;31m    'value': {'local':[], 'global': []}\u001b[0m\n\u001b[0m    ^\u001b[0m\n\u001b[0;31mSyntaxError\u001b[0m\u001b[0;31m:\u001b[0m illegal target for annotation\n"
     ]
    }
   ],
   "source": [
    "'value': {'local':[], 'global': []}"
   ]
  },
  {
   "cell_type": "code",
   "execution_count": 54,
   "id": "47f4f332",
   "metadata": {},
   "outputs": [],
   "source": [
    "with open(r'/root/CLIP1/json_data/the.json') as f:\n",
    "    a=json.load(f)\n",
    "the=[]\n",
    "for i in a:\n",
    "    i['local']=i['value'].split(sep=' Therefore, ')[0]\n",
    "    i['global']=i['value'].split(sep=' Therefore, ')[-1]\n",
    "    del i['value']\n",
    "    the.append(i)\n",
    "with open(r'/root/CLIP1/json_data/the_split.json', 'w') as f1:\n",
    "    json.dump(the, f1)"
   ]
  },
  {
   "cell_type": "code",
   "execution_count": 55,
   "id": "98fda61c",
   "metadata": {},
   "outputs": [],
   "source": [
    "with open(r'/root/CLIP1/json_data/other2the.json') as f:\n",
    "    a=json.load(f)\n",
    "the=[]\n",
    "for i in a:\n",
    "    i['local']=i['value'].split(sep=' Therefore, ')[0]\n",
    "    i['global']=i['value'].split(sep=' Therefore, ')[-1]\n",
    "    del i['value']\n",
    "    the.append(i)\n",
    "with open(r'/root/CLIP1/json_data/other2the_split.json', 'w') as f1:\n",
    "    json.dump(the, f1)"
   ]
  },
  {
   "cell_type": "code",
   "execution_count": 77,
   "id": "4d9ade82",
   "metadata": {},
   "outputs": [],
   "source": [
    "with open(r'/root/CLIP1/json_data/other2other.json') as f:\n",
    "    a=json.load(f)\n",
    "the=[]\n",
    "for i in a:\n",
    "    l1=i['value'].split(sep=', ')[:-1]\n",
    "    l2=i['value'].split(sep=', ')[-1]\n",
    "    if len(l2.split(sep='. '))==1:\n",
    "        i['local']=', '.join(l1)+'.'\n",
    "        i['global']=l2\n",
    "    else:\n",
    "        i['global']=l2.split('. ')[-1]\n",
    "        l3=l2.split('. ')[:-1]\n",
    "        i['local']=', '.join(l1)+', '+'. '.join(l3)+'.'\n",
    "    del i['value']\n",
    "    the.append(i)\n",
    "with open(r'/root/CLIP1/json_data/other2other_split.json', 'w') as f1:\n",
    "    json.dump(the, f1)"
   ]
  },
  {
   "cell_type": "code",
   "execution_count": 67,
   "id": "1edf35a9",
   "metadata": {},
   "outputs": [],
   "source": [
    "a=\"This image overall appears dim, with low color vividness. The focus is on the fish.\"\n",
    "b=\"and the surface details of the fish are relatively clear. The background is highly blurred. The image quality is still acceptable.\""
   ]
  },
  {
   "cell_type": "code",
   "execution_count": 76,
   "id": "31dceef0",
   "metadata": {},
   "outputs": [
    {
     "data": {
      "text/plain": [
       "['and the surface details of the fish are relatively clear',\n",
       " 'The background is highly blurred']"
      ]
     },
     "execution_count": 76,
     "metadata": {},
     "output_type": "execute_result"
    }
   ],
   "source": [
    "b.split(sep='. ')[:-1]"
   ]
  },
  {
   "cell_type": "code",
   "execution_count": 69,
   "id": "b0d3ef9e",
   "metadata": {},
   "outputs": [],
   "source": [
    "c='but the image quality is poor.'"
   ]
  },
  {
   "cell_type": "code",
   "execution_count": 80,
   "id": "ce6157d5",
   "metadata": {},
   "outputs": [
    {
     "name": "stdout",
     "output_type": "stream",
     "text": [
      "38435\n"
     ]
    }
   ],
   "source": [
    "with open(r'/root/CLIP1/json_data/the_split.json') as f:\n",
    "    a=json.load(f)\n",
    "    print(len(a))"
   ]
  },
  {
   "cell_type": "code",
   "execution_count": 81,
   "id": "a4185279",
   "metadata": {},
   "outputs": [
    {
     "name": "stdout",
     "output_type": "stream",
     "text": [
      "2519\n"
     ]
    }
   ],
   "source": [
    "with open(r'/root/CLIP1/json_data/other2the_split.json') as f:\n",
    "    a=json.load(f)\n",
    "    print(len(a))"
   ]
  },
  {
   "cell_type": "code",
   "execution_count": 82,
   "id": "207f07db",
   "metadata": {},
   "outputs": [
    {
     "name": "stdout",
     "output_type": "stream",
     "text": [
      "12868\n"
     ]
    }
   ],
   "source": [
    "with open(r'/root/CLIP1/json_data/other2other_split.json') as f:\n",
    "    a=json.load(f)\n",
    "    print(len(a))"
   ]
  },
  {
   "cell_type": "code",
   "execution_count": 83,
   "id": "b54d2c7b",
   "metadata": {},
   "outputs": [
    {
     "data": {
      "text/plain": [
       "53822"
      ]
     },
     "execution_count": 83,
     "metadata": {},
     "output_type": "execute_result"
    }
   ],
   "source": [
    "12868+2519+38435"
   ]
  },
  {
   "cell_type": "code",
   "execution_count": 85,
   "id": "40e9796f",
   "metadata": {},
   "outputs": [
    {
     "name": "stdout",
     "output_type": "stream",
     "text": [
      "53822\n"
     ]
    }
   ],
   "source": [
    "with open(r'/root/CLIP1/json_data/final.json') as f:\n",
    "    a=json.load(f)\n",
    "    print(len(a))"
   ]
  },
  {
   "cell_type": "code",
   "execution_count": 87,
   "id": "2bcaaa17",
   "metadata": {},
   "outputs": [],
   "source": [
    "with open(r'/root/CLIP1/json_data/final.json') as f:\n",
    "    b=json.load(f)\n",
    "li=[]\n",
    "di={}\n",
    "for i in b:\n",
    "    if i['image'] in di.keys():\n",
    "        di[i['image']]['local'].append(i['local'])\n",
    "        di[i['image']]['global'].append(i['global'])\n",
    "    else:\n",
    "        di[i['image']]={}\n",
    "        di[i['image']]['local']=[i['local']]\n",
    "        di[i['image']]['global']=[i['global']]\n",
    "for k, v in di.items():\n",
    "    a={}\n",
    "    a['image']=k\n",
    "    a['local']=v['local']\n",
    "    a['global']=v['global']\n",
    "    li.append(a)\n",
    "with open(r'/root/CLIP1/json_data/final_merge.json', 'w') as f1:\n",
    "    json.dump(li, f1)\n"
   ]
  },
  {
   "cell_type": "code",
   "execution_count": null,
   "id": "d9dc9004",
   "metadata": {},
   "outputs": [],
   "source": [
    "{'111.png':{'local':[], 'global': []}, '222.png':{}}"
   ]
  },
  {
   "cell_type": "code",
   "execution_count": 1,
   "id": "3f0e156b",
   "metadata": {},
   "outputs": [],
   "source": [
    "s=\"spaq_koniq/6144702078.jpg\""
   ]
  },
  {
   "cell_type": "code",
   "execution_count": 3,
   "id": "8ad3cfe6",
   "metadata": {},
   "outputs": [
    {
     "data": {
      "text/plain": [
       "['spaq_koniq', '6144702078.jpg']"
      ]
     },
     "execution_count": 3,
     "metadata": {},
     "output_type": "execute_result"
    }
   ],
   "source": [
    "s.split('/')"
   ]
  },
  {
   "cell_type": "code",
   "execution_count": 4,
   "id": "dc26b197",
   "metadata": {},
   "outputs": [],
   "source": [
    "a=s.split('/')[-1]"
   ]
  },
  {
   "cell_type": "code",
   "execution_count": 6,
   "id": "9db95d48",
   "metadata": {},
   "outputs": [
    {
     "data": {
      "text/plain": [
       "14"
      ]
     },
     "execution_count": 6,
     "metadata": {},
     "output_type": "execute_result"
    }
   ],
   "source": [
    "len(a)"
   ]
  },
  {
   "cell_type": "code",
   "execution_count": 15,
   "id": "31e2f7c8",
   "metadata": {},
   "outputs": [],
   "source": [
    "with open(r'/root/autodl-tmp/test/json/koniq.json') as f:\n",
    "    a=json.load(f)\n",
    "li=[]\n",
    "for i in a:\n",
    "    if len(i['img_path']) not in li:\n",
    "        li.append(len(i['img_path']))"
   ]
  },
  {
   "cell_type": "code",
   "execution_count": 16,
   "id": "8fbf8a86",
   "metadata": {},
   "outputs": [
    {
     "data": {
      "text/plain": [
       "[15, 13, 14, 12, 11, 10]"
      ]
     },
     "execution_count": 16,
     "metadata": {},
     "output_type": "execute_result"
    }
   ],
   "source": [
    "li"
   ]
  },
  {
   "cell_type": "code",
   "execution_count": 10,
   "id": "e5bbd3a9",
   "metadata": {},
   "outputs": [],
   "source": [
    "with open(r'/root/autodl-tmp/test/json/spaq.json') as f:\n",
    "    a=json.load(f)\n",
    "spaq={}\n",
    "for i in a:\n",
    "    spaq[i['img_path']]=i['gt_score']"
   ]
  },
  {
   "cell_type": "code",
   "execution_count": 39,
   "id": "788048fb",
   "metadata": {},
   "outputs": [],
   "source": [
    "with open(r'/root/autodl-tmp/test/json/agi.json') as f:\n",
    "    a=json.load(f)\n",
    "agi={}\n",
    "for i in a:\n",
    "    agi[i['img_path']]=i['gt_score']"
   ]
  },
  {
   "cell_type": "code",
   "execution_count": 40,
   "id": "21c15d20",
   "metadata": {},
   "outputs": [],
   "source": [
    "li=[]\n",
    "for k,v in agi.items():\n",
    "    li.append(v)"
   ]
  },
  {
   "cell_type": "code",
   "execution_count": 42,
   "id": "474f7b17",
   "metadata": {},
   "outputs": [],
   "source": [
    "li.sort()"
   ]
  },
  {
   "cell_type": "code",
   "execution_count": 44,
   "id": "725ab659",
   "metadata": {},
   "outputs": [
    {
     "data": {
      "text/plain": [
       "'4.39158505'"
      ]
     },
     "execution_count": 44,
     "metadata": {},
     "output_type": "execute_result"
    }
   ],
   "source": [
    "li[-5]"
   ]
  },
  {
   "cell_type": "code",
   "execution_count": 38,
   "id": "3dc61d89",
   "metadata": {},
   "outputs": [
    {
     "data": {
      "text/plain": [
       "'0'"
      ]
     },
     "execution_count": 38,
     "metadata": {},
     "output_type": "execute_result"
    }
   ],
   "source": [
    "li[0]"
   ]
  },
  {
   "cell_type": "code",
   "execution_count": 13,
   "id": "9e41badd",
   "metadata": {},
   "outputs": [],
   "source": [
    "# excellent good fair poor bad "
   ]
  },
  {
   "cell_type": "code",
   "execution_count": 19,
   "id": "60dbf75a",
   "metadata": {},
   "outputs": [],
   "source": [
    "with open(r'/root/autodl-tmp/test/json/koniq.json') as f:\n",
    "    a=json.load(f)\n",
    "koniq={}\n",
    "for i in a:\n",
    "    koniq[i['img_path']]=i['gt_score']\n",
    "with open(r'/root/autodl-tmp/test/json/spaq.json') as f:\n",
    "    a=json.load(f)\n",
    "spaq={}\n",
    "for i in a:\n",
    "    spaq[i['img_path']]=i['gt_score']\n",
    "with open(r'/root/autodl-tmp/test/json/agi.json') as f:\n",
    "    a=json.load(f)\n",
    "agi={}\n",
    "for i in a:\n",
    "    agi[i['img_path']]=i['gt_score']\n",
    "with open(r'/root/autodl-tmp/test/json/flive.json') as f:\n",
    "    a=json.load(f)\n",
    "flive={}\n",
    "for i in a:\n",
    "    flive[i['img_path']]=i['gt_score']\n",
    "with open(r'/root/autodl-tmp/test/json/livec.json') as f:\n",
    "    a=json.load(f)\n",
    "livec={}\n",
    "for i in a:\n",
    "    livec[i['img_path']]=i['gt_score']"
   ]
  },
  {
   "cell_type": "code",
   "execution_count": 54,
   "id": "dad1a882",
   "metadata": {},
   "outputs": [],
   "source": [
    "with open(r'/root/CLIP1/json_data/final_merge.json') as f:\n",
    "    b=json.load(f)\n",
    "di={}\n",
    "rank=['the quality of this image is excellent.',\n",
    "      'the quality of this image is good.',\n",
    "      'the quality of this image is fair.',\n",
    "      'the quality of this image is poor.',\n",
    "      'the quality of this image is bad.']\n",
    "for i in b:\n",
    "    li=i['image'].split('/')\n",
    "    if li[0]=='spaq_koniq':\n",
    "        # koniq\n",
    "        if len(li[1])!=9:\n",
    "            score=eval(koniq[li[1]])\n",
    "            if score<1.8:\n",
    "                di[i['image']]=rank[4]\n",
    "            if 1.8<=score and score<2.6:\n",
    "                di[i['image']]=rank[3]\n",
    "            if 2.6<=score and score<3.4:\n",
    "                di[i['image']]=rank[2]\n",
    "            if 3.4<=score and score<4.2:\n",
    "                di[i['image']]=rank[1]\n",
    "            if 4.2<=score and score<5:\n",
    "                di[i['image']]=rank[0]\n",
    "        # spaq\n",
    "        else:\n",
    "            score=spaq[li[1]]\n",
    "            if score<20:\n",
    "                di[i['image']]=rank[4]\n",
    "            if 20<=score and score<40:\n",
    "                di[i['image']]=rank[3]\n",
    "            if 40<=score and score<60:\n",
    "                di[i['image']]=rank[2]\n",
    "            if 60<=score and score<80:\n",
    "                di[i['image']]=rank[1]\n",
    "            if 80<=score and score<100:\n",
    "                di[i['image']]=rank[0]\n",
    "    else:\n",
    "        # agi\n",
    "        if li[1].startswith('sd') or li[-1].startswith('xl') or li[-1].startswith('Attn') or li[-1].startswith('DALLE') or li[-1].startswith('glide') or li[-1].startswith('mid'):\n",
    "            score=eval(agi[li[1]])\n",
    "            if score<1:\n",
    "                di[i['image']]=rank[4]\n",
    "            if 1<=score and score<2:\n",
    "                di[i['image']]=rank[3]\n",
    "            if 2<=score and score<3:\n",
    "                di[i['image']]=rank[2]\n",
    "            if 3<=score and score<4:\n",
    "                di[i['image']]=rank[1]\n",
    "            if 4<=score and score<5:\n",
    "                di[i['image']]=rank[0]\n",
    "        # livec\n",
    "        elif li[1].endswith('bmp') or (li[1].endswith('JPG') and (len(li[1])==7 or len(li[1])==8)):\n",
    "            score=livec[li[1]]\n",
    "            if score<20:\n",
    "                di[i['image']]=rank[4]\n",
    "            if 20<=score and score<40:\n",
    "                di[i['image']]=rank[3]\n",
    "            if 40<=score and score<60:\n",
    "                di[i['image']]=rank[2]\n",
    "            if 60<=score and score<80:\n",
    "                di[i['image']]=rank[1]\n",
    "            if 80<=score and score<100:\n",
    "                di[i['image']]=rank[0]\n",
    "        # flive\n",
    "        elif li[1].startswith('EMOTIC') or li[1].startswith('VOC') or li[1].startswith('motion') or li[1].startswith('out') or li[1].startswith('AVA') or li[1].startswith('JPEG'):\n",
    "            if li[1].startswith('motion') or li[1].startswith('out'):\n",
    "                score=flive['blur_dataset/'+li[1]]\n",
    "            else:\n",
    "                score=flive['voc_emotic_ava/'+li[1]]\n",
    "            score=eval(score)\n",
    "            if score<20:\n",
    "                di[i['image']]=rank[4]\n",
    "            if 20<=score and score<40:\n",
    "                di[i['image']]=rank[3]\n",
    "            if 40<=score and score<60:\n",
    "                di[i['image']]=rank[2]\n",
    "            if 60<=score and score<80:\n",
    "                di[i['image']]=rank[1]\n",
    "            if 80<=score and score<100:\n",
    "                di[i['image']]=rank[0]\n",
    "with open(r'/root/CLIP1/json_data/global.json', 'w') as ff:\n",
    "    json.dump(di, ff)\n"
   ]
  },
  {
   "cell_type": "code",
   "execution_count": 8,
   "id": "d013895d",
   "metadata": {},
   "outputs": [
    {
     "data": {
      "text/plain": [
       "9"
      ]
     },
     "execution_count": 8,
     "metadata": {},
     "output_type": "execute_result"
    }
   ],
   "source": [
    "len('06265.jpg')"
   ]
  },
  {
   "cell_type": "code",
   "execution_count": 11,
   "id": "79c425ab",
   "metadata": {},
   "outputs": [],
   "source": [
    "webp=0\n",
    "for i in b:\n",
    "    li=i['image'].split('/')\n",
    "    if li[0]!='spaq_koniq':\n",
    "        if li[-1].endswith('webp'):\n",
    "            webp+=1"
   ]
  },
  {
   "cell_type": "code",
   "execution_count": 15,
   "id": "f7f334de",
   "metadata": {},
   "outputs": [],
   "source": [
    "agi=0\n",
    "for i in b:\n",
    "    li=i['image'].split('/')\n",
    "    if li[0]!='spaq_koniq':\n",
    "        if li[-1].startswith('sd') or li[-1].startswith('xl') or li[-1].startswith('Attn') or li[-1].startswith('DALLE') or li[-1].startswith('glide') or li[-1].startswith('mid'):\n",
    "            agi+=1"
   ]
  },
  {
   "cell_type": "code",
   "execution_count": 18,
   "id": "80e4192c",
   "metadata": {},
   "outputs": [
    {
     "name": "stdout",
     "output_type": "stream",
     "text": [
      "200\n"
     ]
    }
   ],
   "source": [
    "webp=0\n",
    "for i in b:\n",
    "    li=i['image'].split('/')\n",
    "    if li[0]!='spaq_koniq':\n",
    "        if li[-1].endswith('bmp') or li[-1].endswith('JPG'):\n",
    "            webp+=1\n",
    "print(webp)"
   ]
  },
  {
   "cell_type": "code",
   "execution_count": 25,
   "id": "1c863a23",
   "metadata": {},
   "outputs": [
    {
     "name": "stdout",
     "output_type": "stream",
     "text": [
      "199\n"
     ]
    }
   ],
   "source": [
    "webp=0\n",
    "for i in b:\n",
    "    li=i['image'].split('/')\n",
    "    if li[0]!='spaq_koniq':\n",
    "        if li[1].endswith('bmp') or (li[1].endswith('JPG') and (len(li[1])==7 or len(li[1])==8)):\n",
    "            webp+=1\n",
    "print(webp)"
   ]
  },
  {
   "cell_type": "code",
   "execution_count": 7,
   "id": "e4d01559",
   "metadata": {},
   "outputs": [],
   "source": [
    "with open(r'/root/CLIP1/json_data/final_merge.json') as f:\n",
    "    b=json.load(f)"
   ]
  },
  {
   "cell_type": "code",
   "execution_count": 18,
   "id": "f635f4ed",
   "metadata": {},
   "outputs": [
    {
     "name": "stdout",
     "output_type": "stream",
     "text": [
      "5082\n"
     ]
    }
   ],
   "source": [
    "webp=0\n",
    "for i in b:\n",
    "    li=i['image'].split('/')\n",
    "    if li[0]=='spaq_koniq':\n",
    "        if len(li[-1])!=9:\n",
    "            webp+=1\n",
    "print(webp)"
   ]
  },
  {
   "cell_type": "code",
   "execution_count": null,
   "id": "f229af4e",
   "metadata": {},
   "outputs": [],
   "source": [
    "\"\"\"\n",
    "spaq_koniq:\n",
    "koniq (15, 13, 14, 12, 11, 10): 5082 [1, 5]\n",
    "spaq (9): 10663 [1, 100]\n",
    "15745\n",
    "\n",
    "livefb_liveitw_aigc: \n",
    "LIVE-FB(flive) (EMOTIC/VOC/motion/out/AVA/JPEG): 773 [0, 100]\n",
    "LIVE-itw(livec) (.bmp/.JPG): 199 [0, 100]\n",
    "AGIQA-3K (sd/xl/Attn/DALLE/glide/mid): 395 [0, 5]\n",
    "ImageRewardDB (.webp): 586\n",
    "15-distortion COCO (000000): 1012\n",
    "2966\n",
    "\n",
    "18711\n",
    "\"\"\""
   ]
  },
  {
   "cell_type": "code",
   "execution_count": 3,
   "id": "ff7bf3b9",
   "metadata": {},
   "outputs": [],
   "source": [
    "with open(r'/root/CLIP1/json_data/final_merge.json') as f1:\n",
    "    f=json.load(f1)\n",
    "with open(r'/root/CLIP1/json_data/global.json') as f2:\n",
    "    g=json.load(f2)\n",
    "li=[]\n",
    "ll=[]\n",
    "for i in f:\n",
    "    if i['image'] in g.keys():\n",
    "        del i['global']\n",
    "        i['global']=g[i['image']]\n",
    "        li.append(i)\n",
    "    else:\n",
    "        ll.append(i)\n",
    "with open(r'/root/CLIP1/json_data/final_merge_change_global.json', 'w') as ff:\n",
    "    json.dump(li, ff)\n",
    "with open(r'/root/CLIP1/json_data/need2unify.json', 'w') as f3:\n",
    "    json.dump(ll, f3)"
   ]
  },
  {
   "cell_type": "code",
   "execution_count": 44,
   "id": "dc0029ed",
   "metadata": {},
   "outputs": [],
   "source": [
    "with open(r'/root/CLIP1/json_data/need2unify.json') as f3:\n",
    "    a=json.load(f3)\n",
    "    quality=[]\n",
    "    for i in a:\n",
    "        di={}\n",
    "        qu=[]\n",
    "        for x in i['global']:\n",
    "            if 'poor' in x:\n",
    "                a='poor'\n",
    "            if 'excellent' in x:\n",
    "                \n",
    "            qu.append(a)\n",
    "            di[i['image']]=qu\n",
    "        quality.append(di)"
   ]
  },
  {
   "cell_type": "code",
   "execution_count": 52,
   "id": "ab815920",
   "metadata": {},
   "outputs": [],
   "source": [
    "n=[]\n",
    "for i in quality:\n",
    "    for k, v in i.items():\n",
    "        if len(v)==1:\n",
    "            pass\n",
    "        if len(v)==2:\n",
    "            if 'poor' in v[0]:\n",
    "                a='poor'\n",
    "            if a!=b:\n",
    "                n.append([k,v])\n",
    "        if len(v)==3:\n",
    "            if v[0]!=v[1] or v[2]!=v[1]:\n",
    "                n.append([k,v])"
   ]
  },
  {
   "cell_type": "code",
   "execution_count": 11,
   "id": "f60c7169",
   "metadata": {},
   "outputs": [],
   "source": [
    "with open(r'/root/CLIP1/json_data/the.json') as f:\n",
    "    a=json.load(f)\n",
    "with open(r'/root/CLIP1/json_data/other.json') as f:\n",
    "    b=json.load(f)"
   ]
  },
  {
   "cell_type": "code",
   "execution_count": 12,
   "id": "09229dee",
   "metadata": {},
   "outputs": [
    {
     "ename": "KeyboardInterrupt",
     "evalue": "",
     "output_type": "error",
     "traceback": [
      "\u001b[0;31m---------------------------------------------------------------------------\u001b[0m",
      "\u001b[0;31mKeyboardInterrupt\u001b[0m                         Traceback (most recent call last)",
      "\u001b[0;32m/tmp/ipykernel_1509/2170067751.py\u001b[0m in \u001b[0;36m<module>\u001b[0;34m\u001b[0m\n\u001b[1;32m      5\u001b[0m     \u001b[0mli\u001b[0m\u001b[0;34m.\u001b[0m\u001b[0mappend\u001b[0m\u001b[0;34m(\u001b[0m\u001b[0mb\u001b[0m\u001b[0;34m)\u001b[0m\u001b[0;34m\u001b[0m\u001b[0;34m\u001b[0m\u001b[0m\n\u001b[1;32m      6\u001b[0m \u001b[0;32mwith\u001b[0m \u001b[0mopen\u001b[0m\u001b[0;34m(\u001b[0m\u001b[0;34mr'/root/CLIP1/json_data/q_pathway2_no_mistake.json'\u001b[0m\u001b[0;34m,\u001b[0m \u001b[0;34m'w'\u001b[0m\u001b[0;34m)\u001b[0m \u001b[0;32mas\u001b[0m \u001b[0mff\u001b[0m\u001b[0;34m:\u001b[0m\u001b[0;34m\u001b[0m\u001b[0;34m\u001b[0m\u001b[0m\n\u001b[0;32m----> 7\u001b[0;31m     \u001b[0mjson\u001b[0m\u001b[0;34m.\u001b[0m\u001b[0mdump\u001b[0m\u001b[0;34m(\u001b[0m\u001b[0mli\u001b[0m\u001b[0;34m,\u001b[0m\u001b[0mff\u001b[0m\u001b[0;34m)\u001b[0m\u001b[0;34m\u001b[0m\u001b[0;34m\u001b[0m\u001b[0m\n\u001b[0m",
      "\u001b[0;32m~/miniconda3/lib/python3.8/json/__init__.py\u001b[0m in \u001b[0;36mdump\u001b[0;34m(obj, fp, skipkeys, ensure_ascii, check_circular, allow_nan, cls, indent, separators, default, sort_keys, **kw)\u001b[0m\n\u001b[1;32m    177\u001b[0m     \u001b[0;31m# could accelerate with writelines in some versions of Python, at\u001b[0m\u001b[0;34m\u001b[0m\u001b[0;34m\u001b[0m\u001b[0;34m\u001b[0m\u001b[0m\n\u001b[1;32m    178\u001b[0m     \u001b[0;31m# a debuggability cost\u001b[0m\u001b[0;34m\u001b[0m\u001b[0;34m\u001b[0m\u001b[0;34m\u001b[0m\u001b[0m\n\u001b[0;32m--> 179\u001b[0;31m     \u001b[0;32mfor\u001b[0m \u001b[0mchunk\u001b[0m \u001b[0;32min\u001b[0m \u001b[0miterable\u001b[0m\u001b[0;34m:\u001b[0m\u001b[0;34m\u001b[0m\u001b[0;34m\u001b[0m\u001b[0m\n\u001b[0m\u001b[1;32m    180\u001b[0m         \u001b[0mfp\u001b[0m\u001b[0;34m.\u001b[0m\u001b[0mwrite\u001b[0m\u001b[0;34m(\u001b[0m\u001b[0mchunk\u001b[0m\u001b[0;34m)\u001b[0m\u001b[0;34m\u001b[0m\u001b[0;34m\u001b[0m\u001b[0m\n\u001b[1;32m    181\u001b[0m \u001b[0;34m\u001b[0m\u001b[0m\n",
      "\u001b[0;32m~/miniconda3/lib/python3.8/json/encoder.py\u001b[0m in \u001b[0;36m_iterencode\u001b[0;34m(o, _current_indent_level)\u001b[0m\n\u001b[1;32m    427\u001b[0m             \u001b[0;32myield\u001b[0m \u001b[0m_floatstr\u001b[0m\u001b[0;34m(\u001b[0m\u001b[0mo\u001b[0m\u001b[0;34m)\u001b[0m\u001b[0;34m\u001b[0m\u001b[0;34m\u001b[0m\u001b[0m\n\u001b[1;32m    428\u001b[0m         \u001b[0;32melif\u001b[0m \u001b[0misinstance\u001b[0m\u001b[0;34m(\u001b[0m\u001b[0mo\u001b[0m\u001b[0;34m,\u001b[0m \u001b[0;34m(\u001b[0m\u001b[0mlist\u001b[0m\u001b[0;34m,\u001b[0m \u001b[0mtuple\u001b[0m\u001b[0;34m)\u001b[0m\u001b[0;34m)\u001b[0m\u001b[0;34m:\u001b[0m\u001b[0;34m\u001b[0m\u001b[0;34m\u001b[0m\u001b[0m\n\u001b[0;32m--> 429\u001b[0;31m             \u001b[0;32myield\u001b[0m \u001b[0;32mfrom\u001b[0m \u001b[0m_iterencode_list\u001b[0m\u001b[0;34m(\u001b[0m\u001b[0mo\u001b[0m\u001b[0;34m,\u001b[0m \u001b[0m_current_indent_level\u001b[0m\u001b[0;34m)\u001b[0m\u001b[0;34m\u001b[0m\u001b[0;34m\u001b[0m\u001b[0m\n\u001b[0m\u001b[1;32m    430\u001b[0m         \u001b[0;32melif\u001b[0m \u001b[0misinstance\u001b[0m\u001b[0;34m(\u001b[0m\u001b[0mo\u001b[0m\u001b[0;34m,\u001b[0m \u001b[0mdict\u001b[0m\u001b[0;34m)\u001b[0m\u001b[0;34m:\u001b[0m\u001b[0;34m\u001b[0m\u001b[0;34m\u001b[0m\u001b[0m\n\u001b[1;32m    431\u001b[0m             \u001b[0;32myield\u001b[0m \u001b[0;32mfrom\u001b[0m \u001b[0m_iterencode_dict\u001b[0m\u001b[0;34m(\u001b[0m\u001b[0mo\u001b[0m\u001b[0;34m,\u001b[0m \u001b[0m_current_indent_level\u001b[0m\u001b[0;34m)\u001b[0m\u001b[0;34m\u001b[0m\u001b[0;34m\u001b[0m\u001b[0m\n",
      "\u001b[0;32m~/miniconda3/lib/python3.8/json/encoder.py\u001b[0m in \u001b[0;36m_iterencode_list\u001b[0;34m(lst, _current_indent_level)\u001b[0m\n\u001b[1;32m    323\u001b[0m                 \u001b[0;32melse\u001b[0m\u001b[0;34m:\u001b[0m\u001b[0;34m\u001b[0m\u001b[0;34m\u001b[0m\u001b[0m\n\u001b[1;32m    324\u001b[0m                     \u001b[0mchunks\u001b[0m \u001b[0;34m=\u001b[0m \u001b[0m_iterencode\u001b[0m\u001b[0;34m(\u001b[0m\u001b[0mvalue\u001b[0m\u001b[0;34m,\u001b[0m \u001b[0m_current_indent_level\u001b[0m\u001b[0;34m)\u001b[0m\u001b[0;34m\u001b[0m\u001b[0;34m\u001b[0m\u001b[0m\n\u001b[0;32m--> 325\u001b[0;31m                 \u001b[0;32myield\u001b[0m \u001b[0;32mfrom\u001b[0m \u001b[0mchunks\u001b[0m\u001b[0;34m\u001b[0m\u001b[0;34m\u001b[0m\u001b[0m\n\u001b[0m\u001b[1;32m    326\u001b[0m         \u001b[0;32mif\u001b[0m \u001b[0mnewline_indent\u001b[0m \u001b[0;32mis\u001b[0m \u001b[0;32mnot\u001b[0m \u001b[0;32mNone\u001b[0m\u001b[0;34m:\u001b[0m\u001b[0;34m\u001b[0m\u001b[0;34m\u001b[0m\u001b[0m\n\u001b[1;32m    327\u001b[0m             \u001b[0m_current_indent_level\u001b[0m \u001b[0;34m-=\u001b[0m \u001b[0;36m1\u001b[0m\u001b[0;34m\u001b[0m\u001b[0;34m\u001b[0m\u001b[0m\n",
      "\u001b[0;32m~/miniconda3/lib/python3.8/json/encoder.py\u001b[0m in \u001b[0;36m_iterencode_list\u001b[0;34m(lst, _current_indent_level)\u001b[0m\n\u001b[1;32m    307\u001b[0m             \u001b[0;32melif\u001b[0m \u001b[0mvalue\u001b[0m \u001b[0;32mis\u001b[0m \u001b[0;32mFalse\u001b[0m\u001b[0;34m:\u001b[0m\u001b[0;34m\u001b[0m\u001b[0;34m\u001b[0m\u001b[0m\n\u001b[1;32m    308\u001b[0m                 \u001b[0;32myield\u001b[0m \u001b[0mbuf\u001b[0m \u001b[0;34m+\u001b[0m \u001b[0;34m'false'\u001b[0m\u001b[0;34m\u001b[0m\u001b[0;34m\u001b[0m\u001b[0m\n\u001b[0;32m--> 309\u001b[0;31m             \u001b[0;32melif\u001b[0m \u001b[0misinstance\u001b[0m\u001b[0;34m(\u001b[0m\u001b[0mvalue\u001b[0m\u001b[0;34m,\u001b[0m \u001b[0mint\u001b[0m\u001b[0;34m)\u001b[0m\u001b[0;34m:\u001b[0m\u001b[0;34m\u001b[0m\u001b[0;34m\u001b[0m\u001b[0m\n\u001b[0m\u001b[1;32m    310\u001b[0m                 \u001b[0;31m# Subclasses of int/float may override __repr__, but we still\u001b[0m\u001b[0;34m\u001b[0m\u001b[0;34m\u001b[0m\u001b[0;34m\u001b[0m\u001b[0m\n\u001b[1;32m    311\u001b[0m                 \u001b[0;31m# want to encode them as integers/floats in JSON. One example\u001b[0m\u001b[0;34m\u001b[0m\u001b[0;34m\u001b[0m\u001b[0;34m\u001b[0m\u001b[0m\n",
      "\u001b[0;31mKeyboardInterrupt\u001b[0m: "
     ]
    }
   ],
   "source": [
    "li=[]\n",
    "for i in a:\n",
    "    li.append(i)\n",
    "for i in b:\n",
    "    li.append(b)\n",
    "with open(r'/root/CLIP1/json_data/q_pathway2_no_mistake.json', 'w') as ff:\n",
    "    json.dump(li,ff)"
   ]
  },
  {
   "cell_type": "code",
   "execution_count": 16,
   "id": "e53c12a9",
   "metadata": {},
   "outputs": [],
   "source": [
    "with open(r'/root/CLIP1/json_data/q_pathway2_no_mistake.json') as f:\n",
    "    c=json.load(f)"
   ]
  },
  {
   "cell_type": "code",
   "execution_count": 15,
   "id": "20d70029",
   "metadata": {},
   "outputs": [
    {
     "data": {
      "text/plain": [
       "53822"
      ]
     },
     "execution_count": 15,
     "metadata": {},
     "output_type": "execute_result"
    }
   ],
   "source": [
    "38435+15387"
   ]
  },
  {
   "cell_type": "code",
   "execution_count": 17,
   "id": "b5227f45",
   "metadata": {},
   "outputs": [
    {
     "data": {
      "text/plain": [
       "53822"
      ]
     },
     "execution_count": 17,
     "metadata": {},
     "output_type": "execute_result"
    }
   ],
   "source": [
    "len(c)"
   ]
  },
  {
   "cell_type": "code",
   "execution_count": null,
   "id": "2d393e0c",
   "metadata": {},
   "outputs": [],
   "source": []
  }
 ],
 "metadata": {
  "kernelspec": {
   "display_name": "Python 3 (ipykernel)",
   "language": "python",
   "name": "python3"
  },
  "language_info": {
   "codemirror_mode": {
    "name": "ipython",
    "version": 3
   },
   "file_extension": ".py",
   "mimetype": "text/x-python",
   "name": "python",
   "nbconvert_exporter": "python",
   "pygments_lexer": "ipython3",
   "version": "3.8.18"
  }
 },
 "nbformat": 4,
 "nbformat_minor": 5
}
